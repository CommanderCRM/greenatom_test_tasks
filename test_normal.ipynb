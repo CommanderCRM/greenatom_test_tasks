{
  "nbformat": 4,
  "nbformat_minor": 0,
  "metadata": {
    "colab": {
      "provenance": []
    },
    "kernelspec": {
      "name": "python3",
      "display_name": "Python 3"
    },
    "language_info": {
      "name": "python"
    }
  },
  "cells": [
    {
      "cell_type": "markdown",
      "source": [
        "#1\n",
        "Ошибка 500 возникает в результате исполнения кода на backend и зачастую связана\n",
        "с проблемами в самом коде. Поэтому в случае ее возникновения необходимо\n",
        "тщательно проанализировать код backend, его логику, в идеале - посмотреть на \n",
        "результаты выполнения автоматических тестов, все ли проходит успешно.\n",
        "Также такая ошибка может возникнуть из-за неправильной конфигурации сервера, это\n",
        "решается чтением документации и проверкой параметров работы сервера."
      ],
      "metadata": {
        "id": "DjvXSvRfU5nI"
      }
    },
    {
      "cell_type": "markdown",
      "source": [
        "#2"
      ],
      "metadata": {
        "id": "iNIyu7cJVYe-"
      }
    },
    {
      "cell_type": "code",
      "source": [
        "def create_handlers(callback):\n",
        "  handlers = []\n",
        "  for step in range(5):\n",
        "    handlers.append(lambda: callback(step))\n",
        "  return handlers\n",
        "\n",
        "def execute_handlers(handlers):\n",
        "  for handler in handlers:\n",
        "    handler()\n",
        "\n",
        "def callback(step):\n",
        "  print(f\"callback called with argument: {step}\")\n",
        "\n",
        "handlers = create_handlers(callback)\n",
        "execute_handlers(handlers)"
      ],
      "metadata": {
        "colab": {
          "base_uri": "https://localhost:8080/"
        },
        "id": "tbW1l4n0N3Hj",
        "outputId": "1b110c94-9198-47b4-bf98-20dde13df710"
      },
      "execution_count": 1,
      "outputs": [
        {
          "output_type": "stream",
          "name": "stdout",
          "text": [
            "callback called with argument: 4\n",
            "callback called with argument: 4\n",
            "callback called with argument: 4\n",
            "callback called with argument: 4\n",
            "callback called with argument: 4\n"
          ]
        }
      ]
    },
    {
      "cell_type": "markdown",
      "source": [
        "Отладка кода показывает, что все handler обладают одним и тем же аргументом - \n",
        "4.\n",
        "Это связано с особенностью языка Python, а именно поздним связыванием\n",
        "(late binding) внутри замыкания (closure). Значение step не прикрепляется\n",
        "к handler до тех пор, пока не будет вызван сам handler.\n",
        "Решением проблемы является прикрепление step к handler через\n",
        "functools."
      ],
      "metadata": {
        "id": "aI-E5AvLU_pn"
      }
    },
    {
      "cell_type": "code",
      "source": [
        "import functools\n",
        "from typing import Callable, List\n",
        "\n",
        "def create_handlers(callback: Callable[[int], None]) -> List[Callable[[], None]]:\n",
        "  handlers = []\n",
        "  for step in range(5):\n",
        "    handlers.append(functools.partial(callback, step))\n",
        "  return handlers\n",
        "\n",
        "def execute_handlers(handlers: List[Callable[[], None]]):\n",
        "  for handler in handlers:\n",
        "    handler()\n",
        "\n",
        "def callback(step: int):\n",
        "  print(f\"callback called with argument: {step}\")\n",
        "\n",
        "handlers = create_handlers(callback)\n",
        "execute_handlers(handlers)"
      ],
      "metadata": {
        "colab": {
          "base_uri": "https://localhost:8080/"
        },
        "id": "GcFhIuBZQ-MQ",
        "outputId": "9bb3b21c-01af-4bcc-8e9b-798c193d0fc9"
      },
      "execution_count": 2,
      "outputs": [
        {
          "output_type": "stream",
          "name": "stdout",
          "text": [
            "callback called with argument: 0\n",
            "callback called with argument: 1\n",
            "callback called with argument: 2\n",
            "callback called with argument: 3\n",
            "callback called with argument: 4\n"
          ]
        }
      ]
    },
    {
      "cell_type": "markdown",
      "source": [
        "#3"
      ],
      "metadata": {
        "id": "-sQ08wAtVPkF"
      }
    },
    {
      "cell_type": "code",
      "source": [
        "from collections import defaultdict\n",
        "from bs4 import BeautifulSoup\n",
        "from typing import Dict\n",
        "import requests\n",
        "\n",
        "def get_tag_counts(soup) -> Dict[str, int]:\n",
        "    tag_counts = defaultdict(int)\n",
        "    for tag in soup.find_all():\n",
        "        tag_counts[tag.name] += 1\n",
        "    return dict(tag_counts)\n",
        "\n",
        "def get_tag_counts_with_attributes(soup) -> Dict[str, int]:\n",
        "    tag_counts = defaultdict(int)\n",
        "    for tag in soup.find_all():\n",
        "        if tag.attrs:\n",
        "            tag_counts[tag.name] += 1\n",
        "    return dict(tag_counts)\n",
        "\n",
        "def count_tags(url: str) -> Dict[str, int]:\n",
        "    response = requests.get(url)\n",
        "    soup = BeautifulSoup(response.text, 'html.parser')\n",
        "    tag_counts = get_tag_counts(soup)\n",
        "    tag_counts_with_attributes = get_tag_counts_with_attributes(soup)\n",
        "    return {\n",
        "        \"total_tag_count\": sum(tag_counts.values()),\n",
        "        \"total_tag_with_attr_count\": sum(tag_counts_with_attributes.values()),\n",
        "    }\n",
        "\n",
        "url = \"https://greenatom.ru\"\n",
        "result = count_tags(url)\n",
        "\n",
        "print(f\"Total number of HTML tags: {result['total_tag_count']}\\n\")\n",
        "print(f\"Total number of HTML tags with attributes: {result['total_tag_with_attr_count']}\")\n"
      ],
      "metadata": {
        "colab": {
          "base_uri": "https://localhost:8080/"
        },
        "id": "u_X01-v-VQt3",
        "outputId": "dbf128ee-5be7-4d04-84d9-e1cde4921347"
      },
      "execution_count": 3,
      "outputs": [
        {
          "output_type": "stream",
          "name": "stdout",
          "text": [
            "Total number of HTML tags: 8\n",
            "\n",
            "Total number of HTML tags with attributes: 1\n"
          ]
        }
      ]
    },
    {
      "cell_type": "markdown",
      "source": [
        "#4"
      ],
      "metadata": {
        "id": "NEAadB3smG8o"
      }
    },
    {
      "cell_type": "code",
      "source": [
        "import requests\n",
        "\n",
        "def get_public_ip() -> str:\n",
        "    response = requests.get('https://api.ipify.org')\n",
        "    public_ip = response.text\n",
        "    return public_ip\n",
        "\n",
        "public_ip = get_public_ip()\n",
        "print(f\"The current public IP address is: {public_ip}\")"
      ],
      "metadata": {
        "colab": {
          "base_uri": "https://localhost:8080/"
        },
        "id": "cGvNMg1BmIWE",
        "outputId": "59865ed2-77b5-40a2-f7d9-274a70765102"
      },
      "execution_count": 4,
      "outputs": [
        {
          "output_type": "stream",
          "name": "stdout",
          "text": [
            "The current public IP address is: 35.202.122.218\n"
          ]
        }
      ]
    },
    {
      "cell_type": "markdown",
      "source": [
        "#5"
      ],
      "metadata": {
        "id": "kaUl2_FeoJs2"
      }
    },
    {
      "cell_type": "code",
      "source": [
        "%%file comparison.py\n",
        "\n",
        "def compare_versions(version1: str, version2: str) -> int:\n",
        "    version1_list = list(map(int, version1.split(\".\")))\n",
        "    version2_list = list(map(int, version2.split(\".\")))\n",
        "    length = max(len(version1_list), len(version2_list))\n",
        "    for i in range(length):\n",
        "        v1 = version1_list[i] if i < len(version1_list) else 0\n",
        "        v2 = version2_list[i] if i < len(version2_list) else 0\n",
        "        if v1 > v2:\n",
        "            return 1\n",
        "        elif v1 < v2:\n",
        "            return -1\n",
        "    return 0"
      ],
      "metadata": {
        "colab": {
          "base_uri": "https://localhost:8080/"
        },
        "id": "wsmGkWC8oKs6",
        "outputId": "f402d396-1d87-426a-bb1f-2be54176dccb"
      },
      "execution_count": 5,
      "outputs": [
        {
          "output_type": "stream",
          "name": "stdout",
          "text": [
            "Overwriting comparison.py\n"
          ]
        }
      ]
    },
    {
      "cell_type": "markdown",
      "source": [
        "#Автотесты для 5"
      ],
      "metadata": {
        "id": "MSJrTJKhssGd"
      }
    },
    {
      "cell_type": "code",
      "source": [
        "%%file test_version_comparison.py\n",
        "\n",
        "import pytest\n",
        "import sys\n",
        "import os\n",
        "\n",
        "py_file_location = \"/content\"\n",
        "sys.path.append(os.path.abspath(py_file_location))\n",
        "\n",
        "from comparison import compare_versions\n",
        "\n",
        "def test_first_is_newer():\n",
        "  assert compare_versions(\"1.1\", \"1.0\") == 1\n",
        "\n",
        "def test_first_is_older():\n",
        "  assert compare_versions(\"1.0\", \"1.1\") == -1\n",
        "\n",
        "def test_equal_versions():\n",
        "  assert compare_versions(\"1.0\", \"1.0\") == 0\n",
        "\n",
        "def test_first_long_is_newer():\n",
        "  assert compare_versions(\"1.10.10.5\", \"1.9.10.5\") == 1\n",
        "\n",
        "def test_second_long_is_newer():\n",
        "  assert compare_versions(\"3.14.15.5\", \"3.14.17.5\") == -1"
      ],
      "metadata": {
        "colab": {
          "base_uri": "https://localhost:8080/"
        },
        "id": "FgGKohGtqZqW",
        "outputId": "6663d833-422c-4da6-865b-3a07a51289bc"
      },
      "execution_count": 6,
      "outputs": [
        {
          "output_type": "stream",
          "name": "stdout",
          "text": [
            "Overwriting test_version_comparison.py\n"
          ]
        }
      ]
    },
    {
      "cell_type": "code",
      "source": [
        "!python -m pytest test_version_comparison.py"
      ],
      "metadata": {
        "colab": {
          "base_uri": "https://localhost:8080/"
        },
        "id": "LRmcnmB9qjq8",
        "outputId": "28fa82e3-2493-4676-cfb7-d7815449d181"
      },
      "execution_count": 7,
      "outputs": [
        {
          "output_type": "stream",
          "name": "stdout",
          "text": [
            "\u001b[1m============================= test session starts ==============================\u001b[0m\n",
            "platform linux -- Python 3.8.10, pytest-3.6.4, py-1.11.0, pluggy-0.7.1\n",
            "rootdir: /content, inifile:\n",
            "plugins: typeguard-2.7.1\n",
            "\u001b[1m\rcollecting 0 items                                                             \u001b[0m\u001b[1m\rcollecting 5 items                                                             \u001b[0m\u001b[1m\rcollected 5 items                                                              \u001b[0m\n",
            "\n",
            "test_version_comparison.py .....\u001b[36m                                         [100%]\u001b[0m\n",
            "\n",
            "\u001b[32m\u001b[1m=========================== 5 passed in 0.03 seconds ===========================\u001b[0m\n"
          ]
        }
      ]
    }
  ]
}